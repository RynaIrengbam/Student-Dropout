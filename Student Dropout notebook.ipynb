{
 "cells": [
  {
   "cell_type": "code",
   "execution_count": 42,
   "metadata": {},
   "outputs": [],
   "source": [
    "import pandas as pd\n",
    "import numpy as np \n",
    "import matplotlib.pyplot as plt\n",
    "import seaborn as sns\n",
    "from sklearn.model_selection import train_test_split\n",
    "from sklearn.ensemble import RandomForestClassifier\n",
    "from sklearn.metrics import accuracy_score"
   ]
  },
  {
   "cell_type": "code",
   "execution_count": 2,
   "metadata": {},
   "outputs": [
    {
     "data": {
      "text/html": [
       "<div>\n",
       "<style scoped>\n",
       "    .dataframe tbody tr th:only-of-type {\n",
       "        vertical-align: middle;\n",
       "    }\n",
       "\n",
       "    .dataframe tbody tr th {\n",
       "        vertical-align: top;\n",
       "    }\n",
       "\n",
       "    .dataframe thead th {\n",
       "        text-align: right;\n",
       "    }\n",
       "</style>\n",
       "<table border=\"1\" class=\"dataframe\">\n",
       "  <thead>\n",
       "    <tr style=\"text-align: right;\">\n",
       "      <th></th>\n",
       "      <th>Residence_city</th>\n",
       "      <th>Socioeconomic_level</th>\n",
       "      <th>Civil_status</th>\n",
       "      <th>Age</th>\n",
       "      <th>State</th>\n",
       "      <th>Province</th>\n",
       "      <th>Vulnerable_group</th>\n",
       "      <th>Desired_program</th>\n",
       "      <th>Family_income</th>\n",
       "      <th>Father_level</th>\n",
       "      <th>Mother_level</th>\n",
       "      <th>STEM_subjects</th>\n",
       "      <th>H_subjects</th>\n",
       "      <th>Dropout</th>\n",
       "    </tr>\n",
       "  </thead>\n",
       "  <tbody>\n",
       "    <tr>\n",
       "      <td>0</td>\n",
       "      <td>LOCAL</td>\n",
       "      <td>2</td>\n",
       "      <td>Married</td>\n",
       "      <td>36</td>\n",
       "      <td>LOCAL</td>\n",
       "      <td>LOCAL</td>\n",
       "      <td>2</td>\n",
       "      <td>UNSPECIFIED</td>\n",
       "      <td>1200000</td>\n",
       "      <td>HIGH SCHOOL</td>\n",
       "      <td>HIGH SCHOOL</td>\n",
       "      <td>46.7</td>\n",
       "      <td>51.5</td>\n",
       "      <td>YES</td>\n",
       "    </tr>\n",
       "    <tr>\n",
       "      <td>1</td>\n",
       "      <td>LOCAL</td>\n",
       "      <td>2</td>\n",
       "      <td>Unmarried</td>\n",
       "      <td>38</td>\n",
       "      <td>LOCAL</td>\n",
       "      <td>LOCAL</td>\n",
       "      <td>2</td>\n",
       "      <td>UNSPECIFIED</td>\n",
       "      <td>4500000</td>\n",
       "      <td>HIGH SCHOOL</td>\n",
       "      <td>HIGH SCHOOL</td>\n",
       "      <td>43.0</td>\n",
       "      <td>45.2</td>\n",
       "      <td>YES</td>\n",
       "    </tr>\n",
       "    <tr>\n",
       "      <td>2</td>\n",
       "      <td>LOCAL</td>\n",
       "      <td>2</td>\n",
       "      <td>Unmarried</td>\n",
       "      <td>33</td>\n",
       "      <td>LOCAL</td>\n",
       "      <td>NEIGHBOR</td>\n",
       "      <td>2</td>\n",
       "      <td>UNSPECIFIED</td>\n",
       "      <td>1800000</td>\n",
       "      <td>HIGH SCHOOL</td>\n",
       "      <td>UNDERGRADUATE</td>\n",
       "      <td>42.5</td>\n",
       "      <td>49.8</td>\n",
       "      <td>NO</td>\n",
       "    </tr>\n",
       "    <tr>\n",
       "      <td>3</td>\n",
       "      <td>LOCAL</td>\n",
       "      <td>3</td>\n",
       "      <td>Unmarried</td>\n",
       "      <td>27</td>\n",
       "      <td>LOCAL</td>\n",
       "      <td>LOCAL</td>\n",
       "      <td>2</td>\n",
       "      <td>UNSPECIFIED</td>\n",
       "      <td>5000000</td>\n",
       "      <td>HIGH SCHOOL</td>\n",
       "      <td>TECHNOLOGIST</td>\n",
       "      <td>45.9</td>\n",
       "      <td>42.1</td>\n",
       "      <td>YES</td>\n",
       "    </tr>\n",
       "    <tr>\n",
       "      <td>4</td>\n",
       "      <td>LOCAL</td>\n",
       "      <td>3</td>\n",
       "      <td>Unmarried</td>\n",
       "      <td>30</td>\n",
       "      <td>LOCAL</td>\n",
       "      <td>LOCAL</td>\n",
       "      <td>2</td>\n",
       "      <td>UNSPECIFIED</td>\n",
       "      <td>1500000</td>\n",
       "      <td>HIGH SCHOOL</td>\n",
       "      <td>HIGH SCHOOL</td>\n",
       "      <td>45.3</td>\n",
       "      <td>47.8</td>\n",
       "      <td>YES</td>\n",
       "    </tr>\n",
       "  </tbody>\n",
       "</table>\n",
       "</div>"
      ],
      "text/plain": [
       "  Residence_city  Socioeconomic_level Civil_status  Age  State  Province  \\\n",
       "0          LOCAL                    2      Married   36  LOCAL     LOCAL   \n",
       "1          LOCAL                    2    Unmarried   38  LOCAL     LOCAL   \n",
       "2          LOCAL                    2    Unmarried   33  LOCAL  NEIGHBOR   \n",
       "3          LOCAL                    3    Unmarried   27  LOCAL     LOCAL   \n",
       "4          LOCAL                    3    Unmarried   30  LOCAL     LOCAL   \n",
       "\n",
       "   Vulnerable_group Desired_program  Family_income Father_level  \\\n",
       "0                 2     UNSPECIFIED        1200000  HIGH SCHOOL   \n",
       "1                 2     UNSPECIFIED        4500000  HIGH SCHOOL   \n",
       "2                 2     UNSPECIFIED        1800000  HIGH SCHOOL   \n",
       "3                 2     UNSPECIFIED        5000000  HIGH SCHOOL   \n",
       "4                 2     UNSPECIFIED        1500000  HIGH SCHOOL   \n",
       "\n",
       "    Mother_level  STEM_subjects  H_subjects Dropout  \n",
       "0    HIGH SCHOOL           46.7        51.5     YES  \n",
       "1    HIGH SCHOOL           43.0        45.2     YES  \n",
       "2  UNDERGRADUATE           42.5        49.8      NO  \n",
       "3   TECHNOLOGIST           45.9        42.1     YES  \n",
       "4    HIGH SCHOOL           45.3        47.8     YES  "
      ]
     },
     "execution_count": 2,
     "metadata": {},
     "output_type": "execute_result"
    }
   ],
   "source": [
    "data = pd.read_excel(\"C:\\\\My Stuff\\\\Internship\\\\Resolute AI\\\\Data\\\\Student dropout\\\\Merged.xlsx\")\n",
    "data.head(5)"
   ]
  },
  {
   "cell_type": "code",
   "execution_count": 3,
   "metadata": {},
   "outputs": [
    {
     "data": {
      "text/plain": [
       "Index(['Residence_city', 'Socioeconomic_level', 'Civil_status', 'Age', 'State',\n",
       "       'Province', 'Vulnerable_group', 'Desired_program', 'Family_income',\n",
       "       'Father_level', 'Mother_level', 'STEM_subjects', 'H_subjects',\n",
       "       'Dropout'],\n",
       "      dtype='object')"
      ]
     },
     "execution_count": 3,
     "metadata": {},
     "output_type": "execute_result"
    }
   ],
   "source": [
    "data.columns"
   ]
  },
  {
   "cell_type": "markdown",
   "metadata": {},
   "source": [
    "## Exploratory data analysis \n"
   ]
  },
  {
   "cell_type": "code",
   "execution_count": 4,
   "metadata": {},
   "outputs": [
    {
     "data": {
      "text/plain": [
       "(548, 14)"
      ]
     },
     "execution_count": 4,
     "metadata": {},
     "output_type": "execute_result"
    }
   ],
   "source": [
    "data.shape"
   ]
  },
  {
   "cell_type": "code",
   "execution_count": 5,
   "metadata": {},
   "outputs": [
    {
     "data": {
      "text/html": [
       "<div>\n",
       "<style scoped>\n",
       "    .dataframe tbody tr th:only-of-type {\n",
       "        vertical-align: middle;\n",
       "    }\n",
       "\n",
       "    .dataframe tbody tr th {\n",
       "        vertical-align: top;\n",
       "    }\n",
       "\n",
       "    .dataframe thead th {\n",
       "        text-align: right;\n",
       "    }\n",
       "</style>\n",
       "<table border=\"1\" class=\"dataframe\">\n",
       "  <thead>\n",
       "    <tr style=\"text-align: right;\">\n",
       "      <th></th>\n",
       "      <th>Residence_city</th>\n",
       "      <th>Socioeconomic_level</th>\n",
       "      <th>Civil_status</th>\n",
       "      <th>Age</th>\n",
       "      <th>State</th>\n",
       "      <th>Province</th>\n",
       "      <th>Vulnerable_group</th>\n",
       "      <th>Desired_program</th>\n",
       "      <th>Family_income</th>\n",
       "      <th>Father_level</th>\n",
       "      <th>Mother_level</th>\n",
       "      <th>STEM_subjects</th>\n",
       "      <th>H_subjects</th>\n",
       "      <th>Dropout</th>\n",
       "    </tr>\n",
       "  </thead>\n",
       "  <tbody>\n",
       "    <tr>\n",
       "      <td>321</td>\n",
       "      <td>LOCAL</td>\n",
       "      <td>1</td>\n",
       "      <td>Free union</td>\n",
       "      <td>30</td>\n",
       "      <td>LOCAL</td>\n",
       "      <td>NEIGHBOR</td>\n",
       "      <td>2</td>\n",
       "      <td>UNSPECIFIED</td>\n",
       "      <td>1000000</td>\n",
       "      <td>PRIMARY SCHOOL</td>\n",
       "      <td>PRIMARY SCHOOL</td>\n",
       "      <td>51.0</td>\n",
       "      <td>47.7</td>\n",
       "      <td>NO</td>\n",
       "    </tr>\n",
       "    <tr>\n",
       "      <td>339</td>\n",
       "      <td>LOCAL</td>\n",
       "      <td>4</td>\n",
       "      <td>Free union</td>\n",
       "      <td>31</td>\n",
       "      <td>LOCAL</td>\n",
       "      <td>LOCAL</td>\n",
       "      <td>2</td>\n",
       "      <td>UNSPECIFIED</td>\n",
       "      <td>3000000</td>\n",
       "      <td>UNDERGRADUATE</td>\n",
       "      <td>UNDERGRADUATE</td>\n",
       "      <td>55.6</td>\n",
       "      <td>53.7</td>\n",
       "      <td>NO</td>\n",
       "    </tr>\n",
       "    <tr>\n",
       "      <td>341</td>\n",
       "      <td>LOCAL</td>\n",
       "      <td>2</td>\n",
       "      <td>Married</td>\n",
       "      <td>26</td>\n",
       "      <td>LOCAL</td>\n",
       "      <td>LOCAL</td>\n",
       "      <td>2</td>\n",
       "      <td>INFORMATIC ENGINEERING</td>\n",
       "      <td>0</td>\n",
       "      <td>TECHNICAL</td>\n",
       "      <td>TECHNICAL</td>\n",
       "      <td>45.8</td>\n",
       "      <td>46.5</td>\n",
       "      <td>NO</td>\n",
       "    </tr>\n",
       "    <tr>\n",
       "      <td>423</td>\n",
       "      <td>LOCAL</td>\n",
       "      <td>2</td>\n",
       "      <td>Separated</td>\n",
       "      <td>48</td>\n",
       "      <td>LOCAL</td>\n",
       "      <td>LOCAL</td>\n",
       "      <td>2</td>\n",
       "      <td>UNSPECIFIED</td>\n",
       "      <td>2000000</td>\n",
       "      <td>PRIMARY SCHOOL</td>\n",
       "      <td>PRIMARY SCHOOL</td>\n",
       "      <td>46.0</td>\n",
       "      <td>52.7</td>\n",
       "      <td>YES</td>\n",
       "    </tr>\n",
       "    <tr>\n",
       "      <td>424</td>\n",
       "      <td>LOCAL</td>\n",
       "      <td>1</td>\n",
       "      <td>Free union</td>\n",
       "      <td>28</td>\n",
       "      <td>LOCAL</td>\n",
       "      <td>LOCAL</td>\n",
       "      <td>2</td>\n",
       "      <td>UNSPECIFIED</td>\n",
       "      <td>1000000</td>\n",
       "      <td>PRIMARY SCHOOL</td>\n",
       "      <td>PRIMARY SCHOOL</td>\n",
       "      <td>39.0</td>\n",
       "      <td>42.5</td>\n",
       "      <td>NO</td>\n",
       "    </tr>\n",
       "    <tr>\n",
       "      <td>462</td>\n",
       "      <td>LOCAL</td>\n",
       "      <td>1</td>\n",
       "      <td>Free union</td>\n",
       "      <td>36</td>\n",
       "      <td>LOCAL</td>\n",
       "      <td>LOCAL</td>\n",
       "      <td>1</td>\n",
       "      <td>UNSPECIFIED</td>\n",
       "      <td>2000000</td>\n",
       "      <td>PRIMARY SCHOOL</td>\n",
       "      <td>PRIMARY SCHOOL</td>\n",
       "      <td>46.8</td>\n",
       "      <td>51.0</td>\n",
       "      <td>YES</td>\n",
       "    </tr>\n",
       "    <tr>\n",
       "      <td>469</td>\n",
       "      <td>LOCAL</td>\n",
       "      <td>2</td>\n",
       "      <td>Married</td>\n",
       "      <td>36</td>\n",
       "      <td>LOCAL</td>\n",
       "      <td>LOCAL</td>\n",
       "      <td>2</td>\n",
       "      <td>UNSPECIFIED</td>\n",
       "      <td>1200000</td>\n",
       "      <td>HIGH SCHOOL</td>\n",
       "      <td>HIGH SCHOOL</td>\n",
       "      <td>46.7</td>\n",
       "      <td>51.5</td>\n",
       "      <td>YES</td>\n",
       "    </tr>\n",
       "    <tr>\n",
       "      <td>473</td>\n",
       "      <td>LOCAL</td>\n",
       "      <td>3</td>\n",
       "      <td>Free union</td>\n",
       "      <td>35</td>\n",
       "      <td>LOCAL</td>\n",
       "      <td>NEIGHBOR</td>\n",
       "      <td>2</td>\n",
       "      <td>UNSPECIFIED</td>\n",
       "      <td>3000000</td>\n",
       "      <td>TECHNICAL</td>\n",
       "      <td>TECHNOLOGIST</td>\n",
       "      <td>47.5</td>\n",
       "      <td>45.3</td>\n",
       "      <td>NO</td>\n",
       "    </tr>\n",
       "    <tr>\n",
       "      <td>495</td>\n",
       "      <td>LOCAL</td>\n",
       "      <td>4</td>\n",
       "      <td>Married</td>\n",
       "      <td>37</td>\n",
       "      <td>FOREIGN</td>\n",
       "      <td>FOREIGN</td>\n",
       "      <td>2</td>\n",
       "      <td>UNSPECIFIED</td>\n",
       "      <td>10500000</td>\n",
       "      <td>UNDERGRADUATE</td>\n",
       "      <td>TECHNOLOGIST</td>\n",
       "      <td>42.5</td>\n",
       "      <td>44.8</td>\n",
       "      <td>YES</td>\n",
       "    </tr>\n",
       "    <tr>\n",
       "      <td>496</td>\n",
       "      <td>LOCAL</td>\n",
       "      <td>3</td>\n",
       "      <td>Married</td>\n",
       "      <td>38</td>\n",
       "      <td>LOCAL</td>\n",
       "      <td>LOCAL</td>\n",
       "      <td>2</td>\n",
       "      <td>UNSPECIFIED</td>\n",
       "      <td>4000000</td>\n",
       "      <td>TECHNOLOGIST</td>\n",
       "      <td>HIGH SCHOOL</td>\n",
       "      <td>46.2</td>\n",
       "      <td>47.8</td>\n",
       "      <td>NO</td>\n",
       "    </tr>\n",
       "    <tr>\n",
       "      <td>515</td>\n",
       "      <td>LOCAL</td>\n",
       "      <td>2</td>\n",
       "      <td>Married</td>\n",
       "      <td>27</td>\n",
       "      <td>LOCAL</td>\n",
       "      <td>LOCAL</td>\n",
       "      <td>2</td>\n",
       "      <td>UNSPECIFIED</td>\n",
       "      <td>200000</td>\n",
       "      <td>HIGH SCHOOL</td>\n",
       "      <td>TECHNICAL</td>\n",
       "      <td>49.2</td>\n",
       "      <td>47.9</td>\n",
       "      <td>NO</td>\n",
       "    </tr>\n",
       "  </tbody>\n",
       "</table>\n",
       "</div>"
      ],
      "text/plain": [
       "    Residence_city  Socioeconomic_level Civil_status  Age    State  Province  \\\n",
       "321          LOCAL                    1   Free union   30    LOCAL  NEIGHBOR   \n",
       "339          LOCAL                    4   Free union   31    LOCAL     LOCAL   \n",
       "341          LOCAL                    2      Married   26    LOCAL     LOCAL   \n",
       "423          LOCAL                    2    Separated   48    LOCAL     LOCAL   \n",
       "424          LOCAL                    1   Free union   28    LOCAL     LOCAL   \n",
       "462          LOCAL                    1   Free union   36    LOCAL     LOCAL   \n",
       "469          LOCAL                    2      Married   36    LOCAL     LOCAL   \n",
       "473          LOCAL                    3   Free union   35    LOCAL  NEIGHBOR   \n",
       "495          LOCAL                    4      Married   37  FOREIGN   FOREIGN   \n",
       "496          LOCAL                    3      Married   38    LOCAL     LOCAL   \n",
       "515          LOCAL                    2      Married   27    LOCAL     LOCAL   \n",
       "\n",
       "     Vulnerable_group         Desired_program  Family_income    Father_level  \\\n",
       "321                 2             UNSPECIFIED        1000000  PRIMARY SCHOOL   \n",
       "339                 2             UNSPECIFIED        3000000   UNDERGRADUATE   \n",
       "341                 2  INFORMATIC ENGINEERING              0       TECHNICAL   \n",
       "423                 2             UNSPECIFIED        2000000  PRIMARY SCHOOL   \n",
       "424                 2             UNSPECIFIED        1000000  PRIMARY SCHOOL   \n",
       "462                 1             UNSPECIFIED        2000000  PRIMARY SCHOOL   \n",
       "469                 2             UNSPECIFIED        1200000     HIGH SCHOOL   \n",
       "473                 2             UNSPECIFIED        3000000       TECHNICAL   \n",
       "495                 2             UNSPECIFIED       10500000   UNDERGRADUATE   \n",
       "496                 2             UNSPECIFIED        4000000    TECHNOLOGIST   \n",
       "515                 2             UNSPECIFIED         200000     HIGH SCHOOL   \n",
       "\n",
       "       Mother_level  STEM_subjects  H_subjects Dropout  \n",
       "321  PRIMARY SCHOOL           51.0        47.7      NO  \n",
       "339   UNDERGRADUATE           55.6        53.7      NO  \n",
       "341       TECHNICAL           45.8        46.5      NO  \n",
       "423  PRIMARY SCHOOL           46.0        52.7     YES  \n",
       "424  PRIMARY SCHOOL           39.0        42.5      NO  \n",
       "462  PRIMARY SCHOOL           46.8        51.0     YES  \n",
       "469     HIGH SCHOOL           46.7        51.5     YES  \n",
       "473    TECHNOLOGIST           47.5        45.3      NO  \n",
       "495    TECHNOLOGIST           42.5        44.8     YES  \n",
       "496     HIGH SCHOOL           46.2        47.8      NO  \n",
       "515       TECHNICAL           49.2        47.9      NO  "
      ]
     },
     "execution_count": 5,
     "metadata": {},
     "output_type": "execute_result"
    }
   ],
   "source": [
    "duplicate = data[data.duplicated()]\n",
    "duplicate"
   ]
  },
  {
   "cell_type": "code",
   "execution_count": 6,
   "metadata": {},
   "outputs": [],
   "source": [
    "data1 = data.drop_duplicates()"
   ]
  },
  {
   "cell_type": "code",
   "execution_count": 7,
   "metadata": {},
   "outputs": [
    {
     "data": {
      "text/plain": [
       "(537, 14)"
      ]
     },
     "execution_count": 7,
     "metadata": {},
     "output_type": "execute_result"
    }
   ],
   "source": [
    "data1.shape"
   ]
  },
  {
   "cell_type": "code",
   "execution_count": 8,
   "metadata": {},
   "outputs": [
    {
     "data": {
      "text/plain": [
       "Residence_city         0\n",
       "Socioeconomic_level    0\n",
       "Civil_status           0\n",
       "Age                    0\n",
       "State                  0\n",
       "Province               0\n",
       "Vulnerable_group       0\n",
       "Desired_program        0\n",
       "Family_income          0\n",
       "Father_level           0\n",
       "Mother_level           0\n",
       "STEM_subjects          0\n",
       "H_subjects             0\n",
       "Dropout                0\n",
       "dtype: int64"
      ]
     },
     "execution_count": 8,
     "metadata": {},
     "output_type": "execute_result"
    }
   ],
   "source": [
    "data1.isnull().sum()"
   ]
  },
  {
   "cell_type": "code",
   "execution_count": 9,
   "metadata": {},
   "outputs": [
    {
     "data": {
      "text/html": [
       "<div>\n",
       "<style scoped>\n",
       "    .dataframe tbody tr th:only-of-type {\n",
       "        vertical-align: middle;\n",
       "    }\n",
       "\n",
       "    .dataframe tbody tr th {\n",
       "        vertical-align: top;\n",
       "    }\n",
       "\n",
       "    .dataframe thead th {\n",
       "        text-align: right;\n",
       "    }\n",
       "</style>\n",
       "<table border=\"1\" class=\"dataframe\">\n",
       "  <thead>\n",
       "    <tr style=\"text-align: right;\">\n",
       "      <th></th>\n",
       "      <th>Socioeconomic_level</th>\n",
       "      <th>Age</th>\n",
       "      <th>Vulnerable_group</th>\n",
       "      <th>Family_income</th>\n",
       "      <th>STEM_subjects</th>\n",
       "      <th>H_subjects</th>\n",
       "    </tr>\n",
       "  </thead>\n",
       "  <tbody>\n",
       "    <tr>\n",
       "      <td>count</td>\n",
       "      <td>537.000000</td>\n",
       "      <td>537.000000</td>\n",
       "      <td>537.000000</td>\n",
       "      <td>5.370000e+02</td>\n",
       "      <td>537.000000</td>\n",
       "      <td>537.000000</td>\n",
       "    </tr>\n",
       "    <tr>\n",
       "      <td>mean</td>\n",
       "      <td>2.217877</td>\n",
       "      <td>26.793296</td>\n",
       "      <td>1.912477</td>\n",
       "      <td>1.983530e+06</td>\n",
       "      <td>49.157356</td>\n",
       "      <td>45.516946</td>\n",
       "    </tr>\n",
       "    <tr>\n",
       "      <td>std</td>\n",
       "      <td>0.986389</td>\n",
       "      <td>3.914681</td>\n",
       "      <td>0.462969</td>\n",
       "      <td>2.304186e+06</td>\n",
       "      <td>6.493558</td>\n",
       "      <td>6.604060</td>\n",
       "    </tr>\n",
       "    <tr>\n",
       "      <td>min</td>\n",
       "      <td>1.000000</td>\n",
       "      <td>10.000000</td>\n",
       "      <td>-1.000000</td>\n",
       "      <td>0.000000e+00</td>\n",
       "      <td>20.000000</td>\n",
       "      <td>20.000000</td>\n",
       "    </tr>\n",
       "    <tr>\n",
       "      <td>25%</td>\n",
       "      <td>1.000000</td>\n",
       "      <td>24.000000</td>\n",
       "      <td>2.000000</td>\n",
       "      <td>7.500000e+05</td>\n",
       "      <td>45.300000</td>\n",
       "      <td>41.300000</td>\n",
       "    </tr>\n",
       "    <tr>\n",
       "      <td>50%</td>\n",
       "      <td>2.000000</td>\n",
       "      <td>26.000000</td>\n",
       "      <td>2.000000</td>\n",
       "      <td>1.500000e+06</td>\n",
       "      <td>48.900000</td>\n",
       "      <td>45.200000</td>\n",
       "    </tr>\n",
       "    <tr>\n",
       "      <td>75%</td>\n",
       "      <td>3.000000</td>\n",
       "      <td>28.000000</td>\n",
       "      <td>2.000000</td>\n",
       "      <td>2.500000e+06</td>\n",
       "      <td>53.100000</td>\n",
       "      <td>50.000000</td>\n",
       "    </tr>\n",
       "    <tr>\n",
       "      <td>max</td>\n",
       "      <td>6.000000</td>\n",
       "      <td>48.000000</td>\n",
       "      <td>2.000000</td>\n",
       "      <td>2.800000e+07</td>\n",
       "      <td>67.600000</td>\n",
       "      <td>66.800000</td>\n",
       "    </tr>\n",
       "  </tbody>\n",
       "</table>\n",
       "</div>"
      ],
      "text/plain": [
       "       Socioeconomic_level         Age  Vulnerable_group  Family_income  \\\n",
       "count           537.000000  537.000000        537.000000   5.370000e+02   \n",
       "mean              2.217877   26.793296          1.912477   1.983530e+06   \n",
       "std               0.986389    3.914681          0.462969   2.304186e+06   \n",
       "min               1.000000   10.000000         -1.000000   0.000000e+00   \n",
       "25%               1.000000   24.000000          2.000000   7.500000e+05   \n",
       "50%               2.000000   26.000000          2.000000   1.500000e+06   \n",
       "75%               3.000000   28.000000          2.000000   2.500000e+06   \n",
       "max               6.000000   48.000000          2.000000   2.800000e+07   \n",
       "\n",
       "       STEM_subjects  H_subjects  \n",
       "count     537.000000  537.000000  \n",
       "mean       49.157356   45.516946  \n",
       "std         6.493558    6.604060  \n",
       "min        20.000000   20.000000  \n",
       "25%        45.300000   41.300000  \n",
       "50%        48.900000   45.200000  \n",
       "75%        53.100000   50.000000  \n",
       "max        67.600000   66.800000  "
      ]
     },
     "execution_count": 9,
     "metadata": {},
     "output_type": "execute_result"
    }
   ],
   "source": [
    "data1.describe()"
   ]
  },
  {
   "cell_type": "code",
   "execution_count": 10,
   "metadata": {},
   "outputs": [
    {
     "data": {
      "text/plain": [
       "<function matplotlib.pyplot.show(*args, **kw)>"
      ]
     },
     "execution_count": 10,
     "metadata": {},
     "output_type": "execute_result"
    },
    {
     "data": {
      "image/png": "[encoded data removed]",
      "text/plain": [
       "<Figure size 432x288 with 1 Axes>"
      ]
     },
     "metadata": {},
     "output_type": "display_data"
    }
   ],
   "source": [
    "data1.Father_level.value_counts(normalize=True).plot.pie(autopct='%1.0f%%')\n",
    "plt.show"
   ]
  },
  {
   "cell_type": "code",
   "execution_count": 11,
   "metadata": {},
   "outputs": [
    {
     "data": {
      "text/plain": [
       "<function matplotlib.pyplot.show(*args, **kw)>"
      ]
     },
     "execution_count": 11,
     "metadata": {},
     "output_type": "execute_result"
    },
    {
     "data": {
      "image/png": "[encoded data removed]",
      "text/plain": [
       "<Figure size 432x288 with 1 Axes>"
      ]
     },
     "metadata": {},
     "output_type": "display_data"
    }
   ],
   "source": [
    "data1.Mother_level.value_counts(normalize=True).plot.pie(autopct='%1.0f%%')\n",
    "plt.show"
   ]
  },
  {
   "cell_type": "code",
   "execution_count": 12,
   "metadata": {},
   "outputs": [
    {
     "data": {
      "image/png": "[encoded data removed]",
      "text/plain": [
       "<Figure size 432x288 with 2 Axes>"
      ]
     },
     "metadata": {
      "needs_background": "light"
     },
     "output_type": "display_data"
    }
   ],
   "source": [
    "#studying correlation between the dataset variables\n",
    "p = sns.heatmap(data1.corr(), annot = True, cmap = 'coolwarm')"
   ]
  },
  {
   "cell_type": "markdown",
   "metadata": {},
   "source": [
    "There is no significant correlation between the variables."
   ]
  },
  {
   "cell_type": "code",
   "execution_count": 13,
   "metadata": {},
   "outputs": [
    {
     "data": {
      "text/plain": [
       "NO     0.530726\n",
       "YES    0.469274\n",
       "Name: Dropout, dtype: float64"
      ]
     },
     "execution_count": 13,
     "metadata": {},
     "output_type": "execute_result"
    },
    {
     "data": {
      "image/png": "[encoded data removed]",
      "text/plain": [
       "<Figure size 432x288 with 1 Axes>"
      ]
     },
     "metadata": {
      "needs_background": "light"
     },
     "output_type": "display_data"
    }
   ],
   "source": [
    "#target incidence\n",
    "data1['Dropout'].value_counts(normalize=True).plot(kind='bar')\n",
    "data1['Dropout'].value_counts(normalize=True)"
   ]
  },
  {
   "cell_type": "markdown",
   "metadata": {},
   "source": [
    "53% of students did not dropout of university while 46.9% of students dropped out. Calculating the target incidence gives us that the data is fairly balanced."
   ]
  },
  {
   "cell_type": "code",
   "execution_count": 14,
   "metadata": {},
   "outputs": [
    {
     "data": {
      "text/html": [
       "<div>\n",
       "<style scoped>\n",
       "    .dataframe tbody tr th:only-of-type {\n",
       "        vertical-align: middle;\n",
       "    }\n",
       "\n",
       "    .dataframe tbody tr th {\n",
       "        vertical-align: top;\n",
       "    }\n",
       "\n",
       "    .dataframe thead th {\n",
       "        text-align: right;\n",
       "    }\n",
       "</style>\n",
       "<table border=\"1\" class=\"dataframe\">\n",
       "  <thead>\n",
       "    <tr style=\"text-align: right;\">\n",
       "      <th></th>\n",
       "      <th>Age</th>\n",
       "      <th>Family_income</th>\n",
       "      <th>H_subjects</th>\n",
       "      <th>STEM_subjects</th>\n",
       "      <th>Socioeconomic_level</th>\n",
       "      <th>Vulnerable_group</th>\n",
       "    </tr>\n",
       "    <tr>\n",
       "      <th>Dropout</th>\n",
       "      <th></th>\n",
       "      <th></th>\n",
       "      <th></th>\n",
       "      <th></th>\n",
       "      <th></th>\n",
       "      <th></th>\n",
       "    </tr>\n",
       "  </thead>\n",
       "  <tbody>\n",
       "    <tr>\n",
       "      <td>NO</td>\n",
       "      <td>26.592982</td>\n",
       "      <td>2.093981e+06</td>\n",
       "      <td>46.528421</td>\n",
       "      <td>50.694386</td>\n",
       "      <td>2.364912</td>\n",
       "      <td>1.929825</td>\n",
       "    </tr>\n",
       "    <tr>\n",
       "      <td>YES</td>\n",
       "      <td>27.019841</td>\n",
       "      <td>1.858615e+06</td>\n",
       "      <td>44.373016</td>\n",
       "      <td>47.419048</td>\n",
       "      <td>2.051587</td>\n",
       "      <td>1.892857</td>\n",
       "    </tr>\n",
       "  </tbody>\n",
       "</table>\n",
       "</div>"
      ],
      "text/plain": [
       "               Age  Family_income  H_subjects  STEM_subjects  \\\n",
       "Dropout                                                        \n",
       "NO       26.592982   2.093981e+06   46.528421      50.694386   \n",
       "YES      27.019841   1.858615e+06   44.373016      47.419048   \n",
       "\n",
       "         Socioeconomic_level  Vulnerable_group  \n",
       "Dropout                                         \n",
       "NO                  2.364912          1.929825  \n",
       "YES                 2.051587          1.892857  "
      ]
     },
     "execution_count": 14,
     "metadata": {},
     "output_type": "execute_result"
    }
   ],
   "source": [
    "data1.pivot_table(index=['Dropout'],values=data1[1:-1],aggfunc=np.mean)"
   ]
  },
  {
   "cell_type": "code",
   "execution_count": 15,
   "metadata": {},
   "outputs": [
    {
     "data": {
      "text/plain": [
       "<seaborn.axisgrid.PairGrid at 0x2270a395408>"
      ]
     },
     "execution_count": 15,
     "metadata": {},
     "output_type": "execute_result"
    },
    {
     "data": {
      "image/png": "[encoded data removed]",
      "text/plain": [
       "<Figure size 720x720 with 20 Axes>"
      ]
     },
     "metadata": {
      "needs_background": "light"
     },
     "output_type": "display_data"
    }
   ],
   "source": [
    "sns.pairplot(data=data1, vars=['Family_income','H_subjects','STEM_subjects','Age'])"
   ]
  },
  {
   "cell_type": "code",
   "execution_count": 17,
   "metadata": {},
   "outputs": [
    {
     "data": {
      "image/png": "[encoded data removed]",
      "text/plain": [
       "<Figure size 432x288 with 1 Axes>"
      ]
     },
     "metadata": {
      "needs_background": "light"
     },
     "output_type": "display_data"
    }
   ],
   "source": [
    "sns.boxplot(data1.Dropout,data1.Family_income)\n",
    "plt.show()"
   ]
  },
  {
   "cell_type": "code",
   "execution_count": 18,
   "metadata": {},
   "outputs": [
    {
     "data": {
      "image/png": "[encoded data removed]",
      "text/plain": [
       "<Figure size 432x288 with 1 Axes>"
      ]
     },
     "metadata": {
      "needs_background": "light"
     },
     "output_type": "display_data"
    }
   ],
   "source": [
    "sns.boxplot(data1.Dropout,data1.Age)\n",
    "plt.show()"
   ]
  },
  {
   "cell_type": "markdown",
   "metadata": {},
   "source": [
    "The range of age for people dropping is more as compared to those who did not. The average age of people who drop out and people who do not is almost the same. "
   ]
  },
  {
   "cell_type": "code",
   "execution_count": 19,
   "metadata": {},
   "outputs": [
    {
     "data": {
      "image/png": "[encoded data removed]",
      "text/plain": [
       "<Figure size 432x288 with 1 Axes>"
      ]
     },
     "metadata": {
      "needs_background": "light"
     },
     "output_type": "display_data"
    }
   ],
   "source": [
    "pd.crosstab(data1.Civil_status,data1.Dropout).plot(kind='bar')\n",
    "plt.show()"
   ]
  },
  {
   "cell_type": "markdown",
   "metadata": {},
   "source": [
    "Regardless of civil status excluding separated, more students have not dropped out."
   ]
  },
  {
   "cell_type": "code",
   "execution_count": 20,
   "metadata": {},
   "outputs": [
    {
     "data": {
      "image/png": "[encoded data removed]",
      "text/plain": [
       "<Figure size 432x288 with 1 Axes>"
      ]
     },
     "metadata": {
      "needs_background": "light"
     },
     "output_type": "display_data"
    }
   ],
   "source": [
    "pd.crosstab(data1.Father_level,data1.Dropout).plot(kind='bar')\n",
    "plt.show()"
   ]
  },
  {
   "cell_type": "code",
   "execution_count": 21,
   "metadata": {},
   "outputs": [
    {
     "data": {
      "image/png": "[encoded data removed]",
      "text/plain": [
       "<Figure size 432x288 with 1 Axes>"
      ]
     },
     "metadata": {
      "needs_background": "light"
     },
     "output_type": "display_data"
    }
   ],
   "source": [
    "pd.crosstab(data1.Mother_level,data1.Dropout).plot(kind='bar')\n",
    "plt.show()"
   ]
  },
  {
   "cell_type": "markdown",
   "metadata": {},
   "source": [
    "It can be seen that when the mother and father education level is undergraduate then the students are less likely to dropout."
   ]
  },
  {
   "cell_type": "code",
   "execution_count": 22,
   "metadata": {},
   "outputs": [
    {
     "data": {
      "image/png": "[encoded data removed]",
      "text/plain": [
       "<Figure size 432x288 with 1 Axes>"
      ]
     },
     "metadata": {
      "needs_background": "light"
     },
     "output_type": "display_data"
    }
   ],
   "source": [
    "data1['Socioeconomic_level'].astype(str)\n",
    "pd.crosstab(data1.Socioeconomic_level,data1.Dropout).plot(kind='bar')\n",
    "plt.show()"
   ]
  },
  {
   "cell_type": "markdown",
   "metadata": {},
   "source": [
    "Socioeconomic level 1 and 2 have more number of dropouts as compared to people who did not. "
   ]
  },
  {
   "cell_type": "code",
   "execution_count": 23,
   "metadata": {},
   "outputs": [
    {
     "data": {
      "image/png": "[encoded data removed]",
      "text/plain": [
       "<Figure size 432x288 with 1 Axes>"
      ]
     },
     "metadata": {
      "needs_background": "light"
     },
     "output_type": "display_data"
    }
   ],
   "source": [
    "data1['Vulnerable_group'].astype(str)\n",
    "pd.crosstab(data1.Vulnerable_group,data1.Dropout).plot(kind='bar')\n",
    "plt.show()"
   ]
  },
  {
   "cell_type": "code",
   "execution_count": 24,
   "metadata": {},
   "outputs": [
    {
     "data": {
      "image/png": "[encoded data removed]",
      "text/plain": [
       "<Figure size 432x288 with 1 Axes>"
      ]
     },
     "metadata": {
      "needs_background": "light"
     },
     "output_type": "display_data"
    }
   ],
   "source": [
    "pd.crosstab(data1.Desired_program,data1.Dropout).plot(kind='bar')\n",
    "plt.show()"
   ]
  },
  {
   "cell_type": "code",
   "execution_count": 25,
   "metadata": {},
   "outputs": [
    {
     "data": {
      "image/png": "[encoded data removed]",
      "text/plain": [
       "<Figure size 432x288 with 1 Axes>"
      ]
     },
     "metadata": {
      "needs_background": "light"
     },
     "output_type": "display_data"
    }
   ],
   "source": [
    "pd.crosstab(data1.Residence_city,data1.Dropout).plot(kind='bar')\n",
    "plt.show()"
   ]
  },
  {
   "cell_type": "markdown",
   "metadata": {},
   "source": [
    "People from Foreign and Neighbour Residence City are more likely to dropout."
   ]
  },
  {
   "cell_type": "markdown",
   "metadata": {},
   "source": [
    "## Modelling"
   ]
  },
  {
   "cell_type": "code",
   "execution_count": 27,
   "metadata": {},
   "outputs": [
    {
     "name": "stderr",
     "output_type": "stream",
     "text": [
      "C:\\Users\\hp\\Anaconda3\\lib\\site-packages\\pandas\\core\\frame.py:4263: SettingWithCopyWarning: \n",
      "A value is trying to be set on a copy of a slice from a DataFrame\n",
      "\n",
      "See the caveats in the documentation: http://pandas.pydata.org/pandas-docs/stable/user_guide/indexing.html#returning-a-view-versus-a-copy\n",
      "  method=method,\n"
     ]
    }
   ],
   "source": [
    "data1.replace({\"YES\" : 1, \"NO\" : 0}, inplace = True)"
   ]
  },
  {
   "cell_type": "code",
   "execution_count": 28,
   "metadata": {},
   "outputs": [
    {
     "data": {
      "text/html": [
       "<div>\n",
       "<style scoped>\n",
       "    .dataframe tbody tr th:only-of-type {\n",
       "        vertical-align: middle;\n",
       "    }\n",
       "\n",
       "    .dataframe tbody tr th {\n",
       "        vertical-align: top;\n",
       "    }\n",
       "\n",
       "    .dataframe thead th {\n",
       "        text-align: right;\n",
       "    }\n",
       "</style>\n",
       "<table border=\"1\" class=\"dataframe\">\n",
       "  <thead>\n",
       "    <tr style=\"text-align: right;\">\n",
       "      <th></th>\n",
       "      <th>Residence_city</th>\n",
       "      <th>Socioeconomic_level</th>\n",
       "      <th>Civil_status</th>\n",
       "      <th>Age</th>\n",
       "      <th>State</th>\n",
       "      <th>Province</th>\n",
       "      <th>Vulnerable_group</th>\n",
       "      <th>Desired_program</th>\n",
       "      <th>Family_income</th>\n",
       "      <th>Father_level</th>\n",
       "      <th>Mother_level</th>\n",
       "      <th>STEM_subjects</th>\n",
       "      <th>H_subjects</th>\n",
       "      <th>Dropout</th>\n",
       "    </tr>\n",
       "  </thead>\n",
       "  <tbody>\n",
       "    <tr>\n",
       "      <td>0</td>\n",
       "      <td>LOCAL</td>\n",
       "      <td>2</td>\n",
       "      <td>Married</td>\n",
       "      <td>36</td>\n",
       "      <td>LOCAL</td>\n",
       "      <td>LOCAL</td>\n",
       "      <td>2</td>\n",
       "      <td>UNSPECIFIED</td>\n",
       "      <td>1200000</td>\n",
       "      <td>HIGH SCHOOL</td>\n",
       "      <td>HIGH SCHOOL</td>\n",
       "      <td>46.7</td>\n",
       "      <td>51.5</td>\n",
       "      <td>1</td>\n",
       "    </tr>\n",
       "    <tr>\n",
       "      <td>1</td>\n",
       "      <td>LOCAL</td>\n",
       "      <td>2</td>\n",
       "      <td>Unmarried</td>\n",
       "      <td>38</td>\n",
       "      <td>LOCAL</td>\n",
       "      <td>LOCAL</td>\n",
       "      <td>2</td>\n",
       "      <td>UNSPECIFIED</td>\n",
       "      <td>4500000</td>\n",
       "      <td>HIGH SCHOOL</td>\n",
       "      <td>HIGH SCHOOL</td>\n",
       "      <td>43.0</td>\n",
       "      <td>45.2</td>\n",
       "      <td>1</td>\n",
       "    </tr>\n",
       "    <tr>\n",
       "      <td>2</td>\n",
       "      <td>LOCAL</td>\n",
       "      <td>2</td>\n",
       "      <td>Unmarried</td>\n",
       "      <td>33</td>\n",
       "      <td>LOCAL</td>\n",
       "      <td>NEIGHBOR</td>\n",
       "      <td>2</td>\n",
       "      <td>UNSPECIFIED</td>\n",
       "      <td>1800000</td>\n",
       "      <td>HIGH SCHOOL</td>\n",
       "      <td>UNDERGRADUATE</td>\n",
       "      <td>42.5</td>\n",
       "      <td>49.8</td>\n",
       "      <td>0</td>\n",
       "    </tr>\n",
       "    <tr>\n",
       "      <td>3</td>\n",
       "      <td>LOCAL</td>\n",
       "      <td>3</td>\n",
       "      <td>Unmarried</td>\n",
       "      <td>27</td>\n",
       "      <td>LOCAL</td>\n",
       "      <td>LOCAL</td>\n",
       "      <td>2</td>\n",
       "      <td>UNSPECIFIED</td>\n",
       "      <td>5000000</td>\n",
       "      <td>HIGH SCHOOL</td>\n",
       "      <td>TECHNOLOGIST</td>\n",
       "      <td>45.9</td>\n",
       "      <td>42.1</td>\n",
       "      <td>1</td>\n",
       "    </tr>\n",
       "    <tr>\n",
       "      <td>4</td>\n",
       "      <td>LOCAL</td>\n",
       "      <td>3</td>\n",
       "      <td>Unmarried</td>\n",
       "      <td>30</td>\n",
       "      <td>LOCAL</td>\n",
       "      <td>LOCAL</td>\n",
       "      <td>2</td>\n",
       "      <td>UNSPECIFIED</td>\n",
       "      <td>1500000</td>\n",
       "      <td>HIGH SCHOOL</td>\n",
       "      <td>HIGH SCHOOL</td>\n",
       "      <td>45.3</td>\n",
       "      <td>47.8</td>\n",
       "      <td>1</td>\n",
       "    </tr>\n",
       "  </tbody>\n",
       "</table>\n",
       "</div>"
      ],
      "text/plain": [
       "  Residence_city  Socioeconomic_level Civil_status  Age  State  Province  \\\n",
       "0          LOCAL                    2      Married   36  LOCAL     LOCAL   \n",
       "1          LOCAL                    2    Unmarried   38  LOCAL     LOCAL   \n",
       "2          LOCAL                    2    Unmarried   33  LOCAL  NEIGHBOR   \n",
       "3          LOCAL                    3    Unmarried   27  LOCAL     LOCAL   \n",
       "4          LOCAL                    3    Unmarried   30  LOCAL     LOCAL   \n",
       "\n",
       "   Vulnerable_group Desired_program  Family_income Father_level  \\\n",
       "0                 2     UNSPECIFIED        1200000  HIGH SCHOOL   \n",
       "1                 2     UNSPECIFIED        4500000  HIGH SCHOOL   \n",
       "2                 2     UNSPECIFIED        1800000  HIGH SCHOOL   \n",
       "3                 2     UNSPECIFIED        5000000  HIGH SCHOOL   \n",
       "4                 2     UNSPECIFIED        1500000  HIGH SCHOOL   \n",
       "\n",
       "    Mother_level  STEM_subjects  H_subjects  Dropout  \n",
       "0    HIGH SCHOOL           46.7        51.5        1  \n",
       "1    HIGH SCHOOL           43.0        45.2        1  \n",
       "2  UNDERGRADUATE           42.5        49.8        0  \n",
       "3   TECHNOLOGIST           45.9        42.1        1  \n",
       "4    HIGH SCHOOL           45.3        47.8        1  "
      ]
     },
     "execution_count": 28,
     "metadata": {},
     "output_type": "execute_result"
    }
   ],
   "source": [
    "data1.head()"
   ]
  },
  {
   "cell_type": "code",
   "execution_count": 44,
   "metadata": {},
   "outputs": [
    {
     "data": {
      "text/html": [
       "<div>\n",
       "<style scoped>\n",
       "    .dataframe tbody tr th:only-of-type {\n",
       "        vertical-align: middle;\n",
       "    }\n",
       "\n",
       "    .dataframe tbody tr th {\n",
       "        vertical-align: top;\n",
       "    }\n",
       "\n",
       "    .dataframe thead th {\n",
       "        text-align: right;\n",
       "    }\n",
       "</style>\n",
       "<table border=\"1\" class=\"dataframe\">\n",
       "  <thead>\n",
       "    <tr style=\"text-align: right;\">\n",
       "      <th></th>\n",
       "      <th>Residence_city</th>\n",
       "      <th>Civil_status</th>\n",
       "      <th>State</th>\n",
       "      <th>Province</th>\n",
       "      <th>Desired_program</th>\n",
       "      <th>Father_level</th>\n",
       "      <th>Mother_level</th>\n",
       "    </tr>\n",
       "  </thead>\n",
       "  <tbody>\n",
       "    <tr>\n",
       "      <td>0</td>\n",
       "      <td>LOCAL</td>\n",
       "      <td>Married</td>\n",
       "      <td>LOCAL</td>\n",
       "      <td>LOCAL</td>\n",
       "      <td>UNSPECIFIED</td>\n",
       "      <td>HIGH SCHOOL</td>\n",
       "      <td>HIGH SCHOOL</td>\n",
       "    </tr>\n",
       "    <tr>\n",
       "      <td>1</td>\n",
       "      <td>LOCAL</td>\n",
       "      <td>Unmarried</td>\n",
       "      <td>LOCAL</td>\n",
       "      <td>LOCAL</td>\n",
       "      <td>UNSPECIFIED</td>\n",
       "      <td>HIGH SCHOOL</td>\n",
       "      <td>HIGH SCHOOL</td>\n",
       "    </tr>\n",
       "    <tr>\n",
       "      <td>2</td>\n",
       "      <td>LOCAL</td>\n",
       "      <td>Unmarried</td>\n",
       "      <td>LOCAL</td>\n",
       "      <td>NEIGHBOR</td>\n",
       "      <td>UNSPECIFIED</td>\n",
       "      <td>HIGH SCHOOL</td>\n",
       "      <td>UNDERGRADUATE</td>\n",
       "    </tr>\n",
       "    <tr>\n",
       "      <td>3</td>\n",
       "      <td>LOCAL</td>\n",
       "      <td>Unmarried</td>\n",
       "      <td>LOCAL</td>\n",
       "      <td>LOCAL</td>\n",
       "      <td>UNSPECIFIED</td>\n",
       "      <td>HIGH SCHOOL</td>\n",
       "      <td>TECHNOLOGIST</td>\n",
       "    </tr>\n",
       "    <tr>\n",
       "      <td>4</td>\n",
       "      <td>LOCAL</td>\n",
       "      <td>Unmarried</td>\n",
       "      <td>LOCAL</td>\n",
       "      <td>LOCAL</td>\n",
       "      <td>UNSPECIFIED</td>\n",
       "      <td>HIGH SCHOOL</td>\n",
       "      <td>HIGH SCHOOL</td>\n",
       "    </tr>\n",
       "  </tbody>\n",
       "</table>\n",
       "</div>"
      ],
      "text/plain": [
       "  Residence_city Civil_status  State  Province Desired_program Father_level  \\\n",
       "0          LOCAL      Married  LOCAL     LOCAL     UNSPECIFIED  HIGH SCHOOL   \n",
       "1          LOCAL    Unmarried  LOCAL     LOCAL     UNSPECIFIED  HIGH SCHOOL   \n",
       "2          LOCAL    Unmarried  LOCAL  NEIGHBOR     UNSPECIFIED  HIGH SCHOOL   \n",
       "3          LOCAL    Unmarried  LOCAL     LOCAL     UNSPECIFIED  HIGH SCHOOL   \n",
       "4          LOCAL    Unmarried  LOCAL     LOCAL     UNSPECIFIED  HIGH SCHOOL   \n",
       "\n",
       "    Mother_level  \n",
       "0    HIGH SCHOOL  \n",
       "1    HIGH SCHOOL  \n",
       "2  UNDERGRADUATE  \n",
       "3   TECHNOLOGIST  \n",
       "4    HIGH SCHOOL  "
      ]
     },
     "execution_count": 44,
     "metadata": {},
     "output_type": "execute_result"
    }
   ],
   "source": [
    "data_obj1=data1.select_dtypes(include=object)\n",
    "data_obj1.head(5)"
   ]
  },
  {
   "cell_type": "code",
   "execution_count": 57,
   "metadata": {},
   "outputs": [
    {
     "data": {
      "text/plain": [
       "array(['Married', 'Unmarried', 'Free union', 'Separated', 'Single'],\n",
       "      dtype=object)"
      ]
     },
     "execution_count": 57,
     "metadata": {},
     "output_type": "execute_result"
    }
   ],
   "source": [
    "data_obj1.Civil_status.unique()"
   ]
  },
  {
   "cell_type": "code",
   "execution_count": 58,
   "metadata": {},
   "outputs": [
    {
     "data": {
      "text/plain": [
       "array(['UNSPECIFIED', 'INFORMATIC ENGINEERING',\n",
       "       'ELECTRONIC AUTOMATION TECHNOLOGY'], dtype=object)"
      ]
     },
     "execution_count": 58,
     "metadata": {},
     "output_type": "execute_result"
    }
   ],
   "source": [
    "data_obj1.Desired_program.unique()"
   ]
  },
  {
   "cell_type": "code",
   "execution_count": 45,
   "metadata": {},
   "outputs": [],
   "source": [
    "data_obj1a=pd.get_dummies(data_obj1,drop_first=True)"
   ]
  },
  {
   "cell_type": "code",
   "execution_count": 46,
   "metadata": {},
   "outputs": [],
   "source": [
    "data_num1=data1.select_dtypes(include=np.number)"
   ]
  },
  {
   "cell_type": "code",
   "execution_count": 47,
   "metadata": {},
   "outputs": [],
   "source": [
    "final_df1=pd.concat([data_num1,data_obj1a],axis=1)"
   ]
  },
  {
   "cell_type": "code",
   "execution_count": 48,
   "metadata": {},
   "outputs": [
    {
     "data": {
      "text/html": [
       "<div>\n",
       "<style scoped>\n",
       "    .dataframe tbody tr th:only-of-type {\n",
       "        vertical-align: middle;\n",
       "    }\n",
       "\n",
       "    .dataframe tbody tr th {\n",
       "        vertical-align: top;\n",
       "    }\n",
       "\n",
       "    .dataframe thead th {\n",
       "        text-align: right;\n",
       "    }\n",
       "</style>\n",
       "<table border=\"1\" class=\"dataframe\">\n",
       "  <thead>\n",
       "    <tr style=\"text-align: right;\">\n",
       "      <th></th>\n",
       "      <th>Socioeconomic_level</th>\n",
       "      <th>Age</th>\n",
       "      <th>Vulnerable_group</th>\n",
       "      <th>Family_income</th>\n",
       "      <th>STEM_subjects</th>\n",
       "      <th>H_subjects</th>\n",
       "      <th>Dropout</th>\n",
       "      <th>Residence_city_LOCAL</th>\n",
       "      <th>Residence_city_NEIGHBOR</th>\n",
       "      <th>Civil_status_Married</th>\n",
       "      <th>...</th>\n",
       "      <th>Father_level_PRIMARY SCHOOL</th>\n",
       "      <th>Father_level_TECHNICAL</th>\n",
       "      <th>Father_level_TECHNOLOGIST</th>\n",
       "      <th>Father_level_UNDERGRADUATE</th>\n",
       "      <th>Father_level_UNREGISTERED</th>\n",
       "      <th>Mother_level_PRIMARY SCHOOL</th>\n",
       "      <th>Mother_level_TECHNICAL</th>\n",
       "      <th>Mother_level_TECHNOLOGIST</th>\n",
       "      <th>Mother_level_UNDERGRADUATE</th>\n",
       "      <th>Mother_level_UNREGISTERED</th>\n",
       "    </tr>\n",
       "  </thead>\n",
       "  <tbody>\n",
       "    <tr>\n",
       "      <td>0</td>\n",
       "      <td>2</td>\n",
       "      <td>36</td>\n",
       "      <td>2</td>\n",
       "      <td>1200000</td>\n",
       "      <td>46.7</td>\n",
       "      <td>51.5</td>\n",
       "      <td>1</td>\n",
       "      <td>1</td>\n",
       "      <td>0</td>\n",
       "      <td>1</td>\n",
       "      <td>...</td>\n",
       "      <td>0</td>\n",
       "      <td>0</td>\n",
       "      <td>0</td>\n",
       "      <td>0</td>\n",
       "      <td>0</td>\n",
       "      <td>0</td>\n",
       "      <td>0</td>\n",
       "      <td>0</td>\n",
       "      <td>0</td>\n",
       "      <td>0</td>\n",
       "    </tr>\n",
       "    <tr>\n",
       "      <td>1</td>\n",
       "      <td>2</td>\n",
       "      <td>38</td>\n",
       "      <td>2</td>\n",
       "      <td>4500000</td>\n",
       "      <td>43.0</td>\n",
       "      <td>45.2</td>\n",
       "      <td>1</td>\n",
       "      <td>1</td>\n",
       "      <td>0</td>\n",
       "      <td>0</td>\n",
       "      <td>...</td>\n",
       "      <td>0</td>\n",
       "      <td>0</td>\n",
       "      <td>0</td>\n",
       "      <td>0</td>\n",
       "      <td>0</td>\n",
       "      <td>0</td>\n",
       "      <td>0</td>\n",
       "      <td>0</td>\n",
       "      <td>0</td>\n",
       "      <td>0</td>\n",
       "    </tr>\n",
       "    <tr>\n",
       "      <td>2</td>\n",
       "      <td>2</td>\n",
       "      <td>33</td>\n",
       "      <td>2</td>\n",
       "      <td>1800000</td>\n",
       "      <td>42.5</td>\n",
       "      <td>49.8</td>\n",
       "      <td>0</td>\n",
       "      <td>1</td>\n",
       "      <td>0</td>\n",
       "      <td>0</td>\n",
       "      <td>...</td>\n",
       "      <td>0</td>\n",
       "      <td>0</td>\n",
       "      <td>0</td>\n",
       "      <td>0</td>\n",
       "      <td>0</td>\n",
       "      <td>0</td>\n",
       "      <td>0</td>\n",
       "      <td>0</td>\n",
       "      <td>1</td>\n",
       "      <td>0</td>\n",
       "    </tr>\n",
       "    <tr>\n",
       "      <td>3</td>\n",
       "      <td>3</td>\n",
       "      <td>27</td>\n",
       "      <td>2</td>\n",
       "      <td>5000000</td>\n",
       "      <td>45.9</td>\n",
       "      <td>42.1</td>\n",
       "      <td>1</td>\n",
       "      <td>1</td>\n",
       "      <td>0</td>\n",
       "      <td>0</td>\n",
       "      <td>...</td>\n",
       "      <td>0</td>\n",
       "      <td>0</td>\n",
       "      <td>0</td>\n",
       "      <td>0</td>\n",
       "      <td>0</td>\n",
       "      <td>0</td>\n",
       "      <td>0</td>\n",
       "      <td>1</td>\n",
       "      <td>0</td>\n",
       "      <td>0</td>\n",
       "    </tr>\n",
       "    <tr>\n",
       "      <td>4</td>\n",
       "      <td>3</td>\n",
       "      <td>30</td>\n",
       "      <td>2</td>\n",
       "      <td>1500000</td>\n",
       "      <td>45.3</td>\n",
       "      <td>47.8</td>\n",
       "      <td>1</td>\n",
       "      <td>1</td>\n",
       "      <td>0</td>\n",
       "      <td>0</td>\n",
       "      <td>...</td>\n",
       "      <td>0</td>\n",
       "      <td>0</td>\n",
       "      <td>0</td>\n",
       "      <td>0</td>\n",
       "      <td>0</td>\n",
       "      <td>0</td>\n",
       "      <td>0</td>\n",
       "      <td>0</td>\n",
       "      <td>0</td>\n",
       "      <td>0</td>\n",
       "    </tr>\n",
       "  </tbody>\n",
       "</table>\n",
       "<p>5 rows × 29 columns</p>\n",
       "</div>"
      ],
      "text/plain": [
       "   Socioeconomic_level  Age  Vulnerable_group  Family_income  STEM_subjects  \\\n",
       "0                    2   36                 2        1200000           46.7   \n",
       "1                    2   38                 2        4500000           43.0   \n",
       "2                    2   33                 2        1800000           42.5   \n",
       "3                    3   27                 2        5000000           45.9   \n",
       "4                    3   30                 2        1500000           45.3   \n",
       "\n",
       "   H_subjects  Dropout  Residence_city_LOCAL  Residence_city_NEIGHBOR  \\\n",
       "0        51.5        1                     1                        0   \n",
       "1        45.2        1                     1                        0   \n",
       "2        49.8        0                     1                        0   \n",
       "3        42.1        1                     1                        0   \n",
       "4        47.8        1                     1                        0   \n",
       "\n",
       "   Civil_status_Married  ...  Father_level_PRIMARY SCHOOL  \\\n",
       "0                     1  ...                            0   \n",
       "1                     0  ...                            0   \n",
       "2                     0  ...                            0   \n",
       "3                     0  ...                            0   \n",
       "4                     0  ...                            0   \n",
       "\n",
       "   Father_level_TECHNICAL  Father_level_TECHNOLOGIST  \\\n",
       "0                       0                          0   \n",
       "1                       0                          0   \n",
       "2                       0                          0   \n",
       "3                       0                          0   \n",
       "4                       0                          0   \n",
       "\n",
       "   Father_level_UNDERGRADUATE  Father_level_UNREGISTERED  \\\n",
       "0                           0                          0   \n",
       "1                           0                          0   \n",
       "2                           0                          0   \n",
       "3                           0                          0   \n",
       "4                           0                          0   \n",
       "\n",
       "   Mother_level_PRIMARY SCHOOL  Mother_level_TECHNICAL  \\\n",
       "0                            0                       0   \n",
       "1                            0                       0   \n",
       "2                            0                       0   \n",
       "3                            0                       0   \n",
       "4                            0                       0   \n",
       "\n",
       "   Mother_level_TECHNOLOGIST  Mother_level_UNDERGRADUATE  \\\n",
       "0                          0                           0   \n",
       "1                          0                           0   \n",
       "2                          0                           1   \n",
       "3                          1                           0   \n",
       "4                          0                           0   \n",
       "\n",
       "   Mother_level_UNREGISTERED  \n",
       "0                          0  \n",
       "1                          0  \n",
       "2                          0  \n",
       "3                          0  \n",
       "4                          0  \n",
       "\n",
       "[5 rows x 29 columns]"
      ]
     },
     "execution_count": 48,
     "metadata": {},
     "output_type": "execute_result"
    }
   ],
   "source": [
    "final_df1.head()"
   ]
  },
  {
   "cell_type": "code",
   "execution_count": 59,
   "metadata": {},
   "outputs": [
    {
     "data": {
      "text/plain": [
       "Index(['Socioeconomic_level', 'Age', 'Vulnerable_group', 'Family_income',\n",
       "       'STEM_subjects', 'H_subjects', 'Dropout', 'Residence_city_LOCAL',\n",
       "       'Residence_city_NEIGHBOR', 'Civil_status_Married',\n",
       "       'Civil_status_Separated', 'Civil_status_Single',\n",
       "       'Civil_status_Unmarried', 'State_LOCAL', 'State_NEIGHBOR',\n",
       "       'Province_LOCAL', 'Province_NEIGHBOR',\n",
       "       'Desired_program_INFORMATIC ENGINEERING', 'Desired_program_UNSPECIFIED',\n",
       "       'Father_level_PRIMARY SCHOOL', 'Father_level_TECHNICAL',\n",
       "       'Father_level_TECHNOLOGIST', 'Father_level_UNDERGRADUATE',\n",
       "       'Father_level_UNREGISTERED', 'Mother_level_PRIMARY SCHOOL',\n",
       "       'Mother_level_TECHNICAL', 'Mother_level_TECHNOLOGIST',\n",
       "       'Mother_level_UNDERGRADUATE', 'Mother_level_UNREGISTERED'],\n",
       "      dtype='object')"
      ]
     },
     "execution_count": 59,
     "metadata": {},
     "output_type": "execute_result"
    }
   ],
   "source": [
    "final_df1.columns"
   ]
  },
  {
   "cell_type": "code",
   "execution_count": 56,
   "metadata": {},
   "outputs": [
    {
     "data": {
      "text/plain": [
       "Index(['Socioeconomic_level', 'Age', 'Vulnerable_group', 'Family_income',\n",
       "       'STEM_subjects', 'H_subjects', 'Residence_city_LOCAL',\n",
       "       'Residence_city_NEIGHBOR', 'Civil_status_Married',\n",
       "       'Civil_status_Separated', 'Civil_status_Single',\n",
       "       'Civil_status_Unmarried', 'State_LOCAL', 'State_NEIGHBOR',\n",
       "       'Province_LOCAL', 'Province_NEIGHBOR',\n",
       "       'Desired_program_INFORMATIC ENGINEERING', 'Desired_program_UNSPECIFIED',\n",
       "       'Father_level_PRIMARY SCHOOL', 'Father_level_TECHNICAL',\n",
       "       'Father_level_TECHNOLOGIST', 'Father_level_UNDERGRADUATE',\n",
       "       'Father_level_UNREGISTERED', 'Mother_level_PRIMARY SCHOOL',\n",
       "       'Mother_level_TECHNICAL', 'Mother_level_TECHNOLOGIST',\n",
       "       'Mother_level_UNDERGRADUATE', 'Mother_level_UNREGISTERED'],\n",
       "      dtype='object')"
      ]
     },
     "execution_count": 56,
     "metadata": {},
     "output_type": "execute_result"
    }
   ],
   "source": [
    "X1 = final_df1.drop(['Dropout'], axis = 1)\n",
    "Y1 = final_df1['Dropout']\n",
    "X1.columns"
   ]
  },
  {
   "cell_type": "code",
   "execution_count": 50,
   "metadata": {},
   "outputs": [],
   "source": [
    "xtrain,xtest,ytrain,ytest=train_test_split(X1,Y1,test_size=0.2)"
   ]
  },
  {
   "cell_type": "code",
   "execution_count": 51,
   "metadata": {},
   "outputs": [],
   "source": [
    "rdc=RandomForestClassifier()"
   ]
  },
  {
   "cell_type": "code",
   "execution_count": 52,
   "metadata": {},
   "outputs": [],
   "source": [
    "rdc1 = rdc.fit(xtrain,ytrain)"
   ]
  },
  {
   "cell_type": "code",
   "execution_count": 53,
   "metadata": {},
   "outputs": [],
   "source": [
    "ypred=rdc.predict(xtest)"
   ]
  },
  {
   "cell_type": "code",
   "execution_count": 54,
   "metadata": {},
   "outputs": [
    {
     "data": {
      "text/plain": [
       "0.9629629629629629"
      ]
     },
     "execution_count": 54,
     "metadata": {},
     "output_type": "execute_result"
    }
   ],
   "source": [
    "accuracy_score(ytest,ypred)"
   ]
  },
  {
   "cell_type": "code",
   "execution_count": 55,
   "metadata": {},
   "outputs": [],
   "source": [
    "import pickle\n",
    "Dropout = 'finalized_model3.sav'\n",
    "pickle.dump(rdc, open(Dropout, 'wb'))"
   ]
  },
  {
   "cell_type": "code",
   "execution_count": null,
   "metadata": {},
   "outputs": [],
   "source": []
  }
 ],
 "metadata": {
  "kernelspec": {
   "display_name": "Python 3",
   "language": "python",
   "name": "python3"
  },
  "language_info": {
   "codemirror_mode": {
    "name": "ipython",
    "version": 3
   },
   "file_extension": ".py",
   "mimetype": "text/x-python",
   "name": "python",
   "nbconvert_exporter": "python",
   "pygments_lexer": "ipython3",
   "version": "3.7.4"
  }
 },
 "nbformat": 4,
 "nbformat_minor": 2
}
